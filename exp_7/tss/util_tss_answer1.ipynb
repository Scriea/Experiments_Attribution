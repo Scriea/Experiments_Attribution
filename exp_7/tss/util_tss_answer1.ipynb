{
 "cells": [
  {
   "cell_type": "code",
   "execution_count": 1,
   "metadata": {},
   "outputs": [
    {
     "name": "stderr",
     "output_type": "stream",
     "text": [
      "/home/ganesh/vishak/miniconda3/envs/lora/lib/python3.10/site-packages/sentence_transformers/cross_encoder/CrossEncoder.py:13: TqdmWarning: IProgress not found. Please update jupyter and ipywidgets. See https://ipywidgets.readthedocs.io/en/stable/user_install.html\n",
      "  from tqdm.autonotebook import tqdm, trange\n"
     ]
    }
   ],
   "source": [
    "import pickle\n",
    "from submodlib import FacilityLocationMutualInformationFunction\n",
    "from submodlib import GraphCutMutualInformationFunction\n",
    "import json\n",
    "from sentence_transformers import SentenceTransformer\n",
    "import numpy as np\n",
    "from submodlib import FacilityLocationVariantMutualInformationFunction\n",
    "from submodlib import ConcaveOverModularFunction\n",
    "from submodlib import LogDeterminantMutualInformationFunction\n",
    "from submodlib_cpp import ConcaveOverModular"
   ]
  },
  {
   "cell_type": "code",
   "execution_count": 8,
   "metadata": {},
   "outputs": [],
   "source": [
    "import os\n",
    "os.environ[\"CUDA_VISIBLE_DEVICES\"] = \"2,3\""
   ]
  },
  {
   "cell_type": "code",
   "execution_count": 2,
   "metadata": {},
   "outputs": [],
   "source": [
    "with open('/home/ganesh/vishak/ashutosh/Attribution/Experiments_Attribution/exp_7/embeddings/llama/dict_embedding_posthoc_nq_open_op_answer_input.pkl', 'rb') as f:\n",
    "    finetune_data_op_embeddings = pickle.load(f)"
   ]
  },
  {
   "cell_type": "code",
   "execution_count": 3,
   "metadata": {},
   "outputs": [
    {
     "data": {
      "text/plain": [
       "(361000, 768)"
      ]
     },
     "execution_count": 3,
     "metadata": {},
     "output_type": "execute_result"
    }
   ],
   "source": [
    "finetune_data_op_embeddings.shape"
   ]
  },
  {
   "cell_type": "code",
   "execution_count": 5,
   "metadata": {},
   "outputs": [],
   "source": [
    "# with open('../grounded_passages/_ans_context_ft.json', 'r') as myfile:\n",
    "#     grounded_data=myfile.read()\n",
    "# obj = json.loads(grounded_data)"
   ]
  },
  {
   "cell_type": "code",
   "execution_count": 6,
   "metadata": {},
   "outputs": [],
   "source": [
    "# retrieved_contexts={}\n",
    "# for item in obj:\n",
    "#     query = item['question']\n",
    "#     retrieved_contexts[query] = []\n",
    "#     for context_index in range(100):\n",
    "#         retrieved_context = item['ctxs'][context_index]['text']\n",
    "#         retrieved_contexts[query].append(retrieved_context)"
   ]
  },
  {
   "cell_type": "code",
   "execution_count": 7,
   "metadata": {},
   "outputs": [],
   "source": [
    "# queries = list(retrieved_contexts.keys())"
   ]
  },
  {
   "cell_type": "code",
   "execution_count": null,
   "metadata": {},
   "outputs": [],
   "source": [
    "# with open('predictions_ais_600_inp_qn_op_answer2.pkl', 'rb') as f:\n",
    "#     predictions = pickle.load(f)"
   ]
  },
  {
   "cell_type": "code",
   "execution_count": 9,
   "metadata": {},
   "outputs": [
    {
     "data": {
      "text/plain": [
       "SentenceTransformer(\n",
       "  (0): Transformer({'max_seq_length': 512, 'do_lower_case': False}) with Transformer model: T5EncoderModel \n",
       "  (1): Pooling({'word_embedding_dimension': 768, 'pooling_mode_cls_token': False, 'pooling_mode_mean_tokens': True, 'pooling_mode_max_tokens': False, 'pooling_mode_mean_sqrt_len_tokens': False, 'pooling_mode_weightedmean_tokens': False, 'pooling_mode_lasttoken': False, 'include_prompt': True})\n",
       "  (2): Dense({'in_features': 1024, 'out_features': 768, 'bias': False, 'activation_function': 'torch.nn.modules.linear.Identity'})\n",
       "  (3): Normalize()\n",
       ")"
      ]
     },
     "execution_count": 9,
     "metadata": {},
     "output_type": "execute_result"
    }
   ],
   "source": [
    "model=SentenceTransformer(\"gtr-t5-xxl\")\n",
    "model.half()"
   ]
  },
  {
   "cell_type": "code",
   "execution_count": 10,
   "metadata": {},
   "outputs": [],
   "source": [
    "qa = np.load('../embeddings/llama/embedding_answers.npy')\n",
    "qq = np.load('../embeddings/llama/embedding_questions.npy')"
   ]
  },
  {
   "cell_type": "code",
   "execution_count": null,
   "metadata": {},
   "outputs": [],
   "source": []
  },
  {
   "cell_type": "code",
   "execution_count": 12,
   "metadata": {},
   "outputs": [
    {
     "name": "stdout",
     "output_type": "stream",
     "text": [
      "0\n",
      "1\n",
      "2\n",
      "3\n",
      "4\n",
      "5\n",
      "6\n",
      "7\n",
      "8\n",
      "9\n",
      "10\n",
      "11\n"
     ]
    },
    {
     "name": "stderr",
     "output_type": "stream",
     "text": [
      "[||||||||||||||||||||]100% [Iteration 3 of 3]"
     ]
    }
   ],
   "source": [
    "index_list={}\n",
    "for i in range(0,len(finetune_data_op_embeddings), 100):\n",
    "    index = int(i/100)\n",
    "    print(index) \n",
    "\n",
    "    answer = qa[index].reshape((1, 768))\n",
    "    query = qq[index].reshape((1, 768))\n",
    "    \n",
    "    qd = np.concatenate([answer])\n",
    "    #print(len(qd))\n",
    "\n",
    "    indices=[]\n",
    "    features = finetune_data_op_embeddings[i:i+100]\n",
    "    objFL = GraphCutMutualInformationFunction(n=100, num_queries=len(qd), data=features, \n",
    "                                        queryData=qd, \n",
    "                                        metric=\"cosine\")\n",
    "    greedyList = objFL.maximize(budget=3,optimizer='NaiveGreedy', stopIfZeroGain=False, stopIfNegativeGain=False, verbose=False)\n",
    "    indices.append([i[0] for i in greedyList])\n",
    "    index_list[index] = indices\n",
    "    if index>10:\n",
    "        break"
   ]
  },
  {
   "cell_type": "code",
   "execution_count": 13,
   "metadata": {},
   "outputs": [
    {
     "data": {
      "text/plain": [
       "{0: [[79, 8, 0]],\n",
       " 1: [[92, 50, 0]],\n",
       " 2: [[36, 21, 98]],\n",
       " 3: [[35, 84, 2]],\n",
       " 4: [[0, 21, 5]],\n",
       " 5: [[75, 14, 71]],\n",
       " 6: [[80, 52, 66]],\n",
       " 7: [[39, 6, 0]],\n",
       " 8: [[1, 0, 3]],\n",
       " 9: [[27, 10, 78]],\n",
       " 10: [[3, 2, 0]],\n",
       " 11: [[71, 90, 51]]}"
      ]
     },
     "execution_count": 13,
     "metadata": {},
     "output_type": "execute_result"
    }
   ],
   "source": [
    "index_list"
   ]
  },
  {
   "cell_type": "code",
   "execution_count": null,
   "metadata": {},
   "outputs": [],
   "source": [
    "with open('graphcutmi_answertss_3.pkl', 'wb') as handle:\n",
    "        pickle.dump(index_list, handle)"
   ]
  },
  {
   "cell_type": "code",
   "execution_count": null,
   "metadata": {},
   "outputs": [],
   "source": [
    "index_list={}\n",
    "for i in range(0,len(finetune_data_op_embeddings), 100):\n",
    "    index = int(i/100)\n",
    "    print(index)\n",
    "\n",
    "    answer = qa[index].reshape((1, 768))\n",
    "    query = qq[index].reshape((1, 768))\n",
    "    \n",
    "    qd = np.concatenate([answer])\n",
    "    #print(len(qd))\n",
    "\n",
    "    indices=[]\n",
    "    features = finetune_data_op_embeddings[i:i+100]\n",
    "    objFL = FacilityLocationMutualInformationFunction(n=100, num_queries=len(qd), data=features, \n",
    "                                                    queryData=qd, metric=\"cosine\", \n",
    "                                                    magnificationEta=1.0)\n",
    "    greedyList = objFL.maximize(budget=3,optimizer='NaiveGreedy', stopIfZeroGain=False, stopIfNegativeGain=False, verbose=False)\n",
    "    indices.append([i[0] for i in greedyList])\n",
    "    index_list[index] = indices"
   ]
  },
  {
   "cell_type": "code",
   "execution_count": null,
   "metadata": {},
   "outputs": [],
   "source": [
    "index_list[0]"
   ]
  },
  {
   "cell_type": "code",
   "execution_count": null,
   "metadata": {},
   "outputs": [],
   "source": [
    "with open('facilitylocmi_answertss_3.pkl', 'wb') as handle:\n",
    "        pickle.dump(index_list, handle)"
   ]
  },
  {
   "cell_type": "code",
   "execution_count": null,
   "metadata": {},
   "outputs": [],
   "source": [
    "index_list={}\n",
    "for i in range(0,len(finetune_data_op_embeddings), 100):\n",
    "    index = int(i/100)\n",
    "    #print(index)\n",
    "\n",
    "    answer = qa[index].reshape((1, 768))\n",
    "    query = qq[index].reshape((1, 768))\n",
    "    \n",
    "    qd = np.concatenate([answer])\n",
    "    #print(len(qd))\n",
    "\n",
    "    indices=[]\n",
    "    features = finetune_data_op_embeddings[i:i+100]\n",
    "    objFL = LogDeterminantMutualInformationFunction(n=100, num_queries=len(qd), data=features, \n",
    "                                                    queryData=qd, metric=\"cosine\", \n",
    "                                                    magnificationEta=1.0, lambdaVal=0.5)\n",
    "    greedyList = objFL.maximize(budget=3,optimizer='NaiveGreedy', stopIfZeroGain=False, stopIfNegativeGain=False, verbose=False)\n",
    "    indices.append([i[0] for i in greedyList])\n",
    "    index_list[index] = indices"
   ]
  },
  {
   "cell_type": "code",
   "execution_count": null,
   "metadata": {},
   "outputs": [],
   "source": [
    "index_list[0]"
   ]
  },
  {
   "cell_type": "code",
   "execution_count": null,
   "metadata": {},
   "outputs": [],
   "source": [
    "with open('logdetmi_answertss_3.pkl', 'wb') as handle:\n",
    "        pickle.dump(index_list, handle)"
   ]
  },
  {
   "cell_type": "code",
   "execution_count": null,
   "metadata": {},
   "outputs": [],
   "source": [
    "index_list={}\n",
    "for i in range(0,len(finetune_data_op_embeddings), 100):\n",
    "    index = int(i/100)\n",
    "    #print(index)\n",
    "\n",
    "    answer = qa[index].reshape((1, 768))\n",
    "    query = qq[index].reshape((1, 768))\n",
    "    \n",
    "    qd = np.concatenate([answer])\n",
    "    #print(len(qd))\n",
    "\n",
    "    indices=[]\n",
    "    features = finetune_data_op_embeddings[i:i+100]\n",
    "    objFL = ConcaveOverModularFunction(n=100, num_queries=len(qd), data=features, \n",
    "                                                    queryData=qd, \n",
    "                                     metric=\"cosine\", queryDiversityEta=1.0, mode=ConcaveOverModular.logarithmic)\n",
    "    greedyList = objFL.maximize(budget=3,optimizer='NaiveGreedy', stopIfZeroGain=False, stopIfNegativeGain=False, verbose=False)\n",
    "    indices.append([i[0] for i in greedyList])\n",
    "    index_list[index] = indices"
   ]
  },
  {
   "cell_type": "code",
   "execution_count": null,
   "metadata": {},
   "outputs": [],
   "source": [
    "index_list[0]"
   ]
  },
  {
   "cell_type": "code",
   "execution_count": null,
   "metadata": {},
   "outputs": [],
   "source": [
    "with open('concaveovermodular_answertss_3.pkl', 'wb') as handle:\n",
    "        pickle.dump(index_list, handle)"
   ]
  }
 ],
 "metadata": {
  "kernelspec": {
   "display_name": "lora",
   "language": "python",
   "name": "python3"
  },
  "language_info": {
   "codemirror_mode": {
    "name": "ipython",
    "version": 3
   },
   "file_extension": ".py",
   "mimetype": "text/x-python",
   "name": "python",
   "nbconvert_exporter": "python",
   "pygments_lexer": "ipython3",
   "version": "3.10.15"
  },
  "orig_nbformat": 4
 },
 "nbformat": 4,
 "nbformat_minor": 2
}
