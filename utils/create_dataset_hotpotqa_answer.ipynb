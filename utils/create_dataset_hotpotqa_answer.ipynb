{
 "cells": [
  {
   "cell_type": "code",
   "execution_count": 1,
   "metadata": {},
   "outputs": [
    {
     "data": {
      "text/plain": [
       "'\\nHotpotqa, qn -> answer (CL < 600)\\n'"
      ]
     },
     "execution_count": 1,
     "metadata": {},
     "output_type": "execute_result"
    }
   ],
   "source": [
    "'''\n",
    "Hotpotqa, qn -> answer (CL < 600)\n",
    "'''"
   ]
  },
  {
   "cell_type": "code",
   "execution_count": 2,
   "metadata": {},
   "outputs": [
    {
     "name": "stderr",
     "output_type": "stream",
     "text": [
      "/raid/ganesh/vishak/miniconda3/envs/lora-instruct-env2/lib/python3.10/site-packages/tqdm/auto.py:21: TqdmWarning: IProgress not found. Please update jupyter and ipywidgets. See https://ipywidgets.readthedocs.io/en/stable/user_install.html\n",
      "  from .autonotebook import tqdm as notebook_tqdm\n"
     ]
    }
   ],
   "source": [
    "from datasets import load_dataset\n",
    "import pickle"
   ]
  },
  {
   "cell_type": "code",
   "execution_count": 3,
   "metadata": {},
   "outputs": [],
   "source": [
    "hotpotqa_dataset = load_dataset('hotpot_qa', 'distractor')\n",
    "train_data = hotpotqa_dataset['train']"
   ]
  },
  {
   "cell_type": "code",
   "execution_count": 4,
   "metadata": {},
   "outputs": [],
   "source": [
    "finetune_traindata_alpaca_format = []\n",
    "for item in train_data:\n",
    "    titles = item['supporting_facts']['title']\n",
    "    context=''\n",
    "    for title in titles:\n",
    "        context_titles = item['context']['title']\n",
    "        index = context_titles.index(title)\n",
    "        context = context + ''.join(item['context']['sentences'][index])\n",
    "    \n",
    "    if (len(context) <= 600):\n",
    "        temp={}\n",
    "        instruction = instruction = \"Answer the given question\"\n",
    "        input_ = \"Question: \" + item['question']\n",
    "        output = \"###Answer: \" + item['answer'] + \" ###END\"\n",
    "        temp['instruction'] = instruction\n",
    "        temp['input'] = input_\n",
    "        temp['output'] = output\n",
    "        finetune_traindata_alpaca_format.append(temp)"
   ]
  },
  {
   "cell_type": "code",
   "execution_count": 5,
   "metadata": {},
   "outputs": [
    {
     "data": {
      "text/plain": [
       "{'instruction': 'Answer the given question',\n",
       " 'input': \"Question: Which magazine was started first Arthur's Magazine or First for Women?\",\n",
       " 'output': \"###Answer: Arthur's Magazine ###END\"}"
      ]
     },
     "execution_count": 5,
     "metadata": {},
     "output_type": "execute_result"
    }
   ],
   "source": [
    "finetune_traindata_alpaca_format[0]"
   ]
  },
  {
   "cell_type": "code",
   "execution_count": 6,
   "metadata": {},
   "outputs": [
    {
     "data": {
      "text/plain": [
       "17881"
      ]
     },
     "execution_count": 6,
     "metadata": {},
     "output_type": "execute_result"
    }
   ],
   "source": [
    "len(finetune_traindata_alpaca_format)"
   ]
  },
  {
   "cell_type": "code",
   "execution_count": 7,
   "metadata": {},
   "outputs": [
    {
     "name": "stderr",
     "output_type": "stream",
     "text": [
      "Saving the dataset (1/1 shards): 100%|██████████| 17881/17881 [00:00<00:00, 2288907.70 examples/s]\n"
     ]
    }
   ],
   "source": [
    "from datasets import load_dataset, DatasetDict, Dataset\n",
    "import pandas as pd\n",
    "import pickle\n",
    "\n",
    "dataset = Dataset.from_pandas(pd.DataFrame(data=finetune_traindata_alpaca_format))\n",
    "dataset_dict = DatasetDict({\"train\": dataset})\n",
    "\n",
    "dataset_dict.save_to_disk(\"../lora-instruct/finetune_hotpotqa_traindata_input_qn_op_answer_CL600\")"
   ]
  }
 ],
 "metadata": {
  "kernelspec": {
   "display_name": "lora-instruct-env2",
   "language": "python",
   "name": "python3"
  },
  "language_info": {
   "codemirror_mode": {
    "name": "ipython",
    "version": 3
   },
   "file_extension": ".py",
   "mimetype": "text/x-python",
   "name": "python",
   "nbconvert_exporter": "python",
   "pygments_lexer": "ipython3",
   "version": "3.10.13 (main, Sep 11 2023, 13:44:35) [GCC 11.2.0]"
  },
  "orig_nbformat": 4,
  "vscode": {
   "interpreter": {
    "hash": "268f5eaff76f347f9bec655e0579857c20f2a26be6cf978357cfb17321ec8e6c"
   }
  }
 },
 "nbformat": 4,
 "nbformat_minor": 2
}
