{
 "cells": [
  {
   "cell_type": "code",
   "execution_count": 10,
   "metadata": {},
   "outputs": [],
   "source": [
    "import pickle\n",
    "\n",
    "\n",
    "\n",
    "with open(\"/home/ganesh/vishak/ashutosh/Attribution/Experiments_Attribution/exp_4/grounding_dicts/llama/dict_posthoc_nq_open_op_answer_context_inference_results.pkl\", \"rb\") as f:\n",
    "    results = pickle.load(f)\n"
   ]
  },
  {
   "cell_type": "code",
   "execution_count": 11,
   "metadata": {},
   "outputs": [],
   "source": [
    "# results"
   ]
  },
  {
   "cell_type": "code",
   "execution_count": 12,
   "metadata": {},
   "outputs": [
    {
     "name": "stdout",
     "output_type": "stream",
     "text": [
      "287.72880886426594\n"
     ]
    }
   ],
   "source": [
    "sum = 0\n",
    "for key, val in results.items():\n",
    "    sum += len(val['context'])\n",
    "\n",
    "print(sum/len(results))"
   ]
  },
  {
   "cell_type": "code",
   "execution_count": 13,
   "metadata": {},
   "outputs": [
    {
     "name": "stdout",
     "output_type": "stream",
     "text": [
      "3417 / 3610\n"
     ]
    }
   ],
   "source": [
    "count = 0\n",
    "for key, val in results.items():\n",
    "    if len(val['context']) > 1:\n",
    "        count += 1\n",
    "print(count, \"/\" , len(results))"
   ]
  },
  {
   "cell_type": "code",
   "execution_count": 14,
   "metadata": {},
   "outputs": [],
   "source": [
    "import pickle\n",
    "\n",
    "\n",
    "\n",
    "with open(\"/home/ganesh/vishak/ashutosh/Attribution/Experiments_Attribution/exp_4/grounding_dicts/mpt/dict_posthoc_nq_open_op_answer_context_inference_results.pkl\", \"rb\") as f:\n",
    "    results = pickle.load(f)\n"
   ]
  },
  {
   "cell_type": "code",
   "execution_count": 15,
   "metadata": {},
   "outputs": [
    {
     "name": "stdout",
     "output_type": "stream",
     "text": [
      "278.09473684210525\n"
     ]
    }
   ],
   "source": [
    "sum = 0\n",
    "for key, val in results.items():\n",
    "    sum += len(val['context'])\n",
    "\n",
    "print(sum/len(results))"
   ]
  },
  {
   "cell_type": "code",
   "execution_count": 16,
   "metadata": {},
   "outputs": [
    {
     "name": "stdout",
     "output_type": "stream",
     "text": [
      "3595 / 3610\n"
     ]
    }
   ],
   "source": [
    "count = 0\n",
    "for key, val in results.items():\n",
    "    if len(val['context']) > 1:\n",
    "        count += 1\n",
    "print(count, \"/\" , len(results))"
   ]
  },
  {
   "cell_type": "code",
   "execution_count": null,
   "metadata": {},
   "outputs": [],
   "source": []
  }
 ],
 "metadata": {
  "kernelspec": {
   "display_name": "lora",
   "language": "python",
   "name": "python3"
  },
  "language_info": {
   "codemirror_mode": {
    "name": "ipython",
    "version": 3
   },
   "file_extension": ".py",
   "mimetype": "text/x-python",
   "name": "python",
   "nbconvert_exporter": "python",
   "pygments_lexer": "ipython3",
   "version": "3.10.15"
  }
 },
 "nbformat": 4,
 "nbformat_minor": 2
}
