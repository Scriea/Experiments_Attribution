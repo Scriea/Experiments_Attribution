{
 "cells": [
  {
   "cell_type": "code",
   "execution_count": 10,
   "metadata": {},
   "outputs": [],
   "source": [
    "import pickle\n",
    "\n",
    "\n",
    "\n",
    "with open(\"/home/ganesh/vishak/ashutosh/Attribution/Experiments_Attribution/exp_4/grounding_dicts/llama/dict_posthoc_nq_open_op_answer_context_inference_results.pkl\", \"rb\") as f:\n",
    "    results = pickle.load(f)\n"
   ]
  },
  {
   "cell_type": "code",
   "execution_count": 11,
   "metadata": {},
   "outputs": [],
   "source": [
    "# results"
   ]
  },
  {
   "cell_type": "code",
   "execution_count": 12,
   "metadata": {},
   "outputs": [
    {
     "name": "stdout",
     "output_type": "stream",
     "text": [
      "287.72880886426594\n"
     ]
    }
   ],
   "source": [
    "sum = 0\n",
    "for key, val in results.items():\n",
    "    sum += len(val['context'])\n",
    "\n",
    "print(sum/len(results))"
   ]
  },
  {
   "cell_type": "code",
   "execution_count": 13,
   "metadata": {},
   "outputs": [
    {
     "name": "stdout",
     "output_type": "stream",
     "text": [
      "3417 / 3610\n"
     ]
    }
   ],
   "source": [
    "count = 0\n",
    "for key, val in results.items():\n",
    "    if len(val['context']) > 1:\n",
    "        count += 1\n",
    "print(count, \"/\" , len(results))"
   ]
  },
  {
   "cell_type": "code",
   "execution_count": 14,
   "metadata": {},
   "outputs": [],
   "source": [
    "import pickle\n",
    "\n",
    "\n",
    "\n",
    "with open(\"/home/ganesh/vishak/ashutosh/Attribution/Experiments_Attribution/exp_4/grounding_dicts/mpt/dict_posthoc_nq_open_op_answer_context_inference_results.pkl\", \"rb\") as f:\n",
    "    results = pickle.load(f)\n"
   ]
  },
  {
   "cell_type": "code",
   "execution_count": 15,
   "metadata": {},
   "outputs": [
    {
     "name": "stdout",
     "output_type": "stream",
     "text": [
      "278.09473684210525\n"
     ]
    }
   ],
   "source": [
    "sum = 0\n",
    "for key, val in results.items():\n",
    "    sum += len(val['context'])\n",
    "\n",
    "print(sum/len(results))"
   ]
  },
  {
   "cell_type": "code",
   "execution_count": 16,
   "metadata": {},
   "outputs": [
    {
     "name": "stdout",
     "output_type": "stream",
     "text": [
      "3595 / 3610\n"
     ]
    }
   ],
   "source": [
    "count = 0\n",
    "for key, val in results.items():\n",
    "    if len(val['context']) > 1:\n",
    "        count += 1\n",
    "print(count, \"/\" , len(results))"
   ]
  },
  {
   "cell_type": "code",
   "execution_count": null,
   "metadata": {},
   "outputs": [],
   "source": []
  },
  {
   "cell_type": "code",
   "execution_count": null,
   "metadata": {},
   "outputs": [],
   "source": []
  },
  {
   "cell_type": "code",
   "execution_count": 1,
   "metadata": {},
   "outputs": [],
   "source": [
    "import pickle\n",
    "\n",
    "\n",
    "\n",
    "with open(\"/home/ganesh/vishak/ashutosh/Attribution/Experiments_Attribution/exp_4/grounding_results/llama/dict_autoais_posthoc_nq_open_op_answer_diverse_context_input.pkl\", \"rb\") as f:\n",
    "    results = pickle.load(f)\n"
   ]
  },
  {
   "cell_type": "code",
   "execution_count": 2,
   "metadata": {},
   "outputs": [
    {
     "name": "stdout",
     "output_type": "stream",
     "text": [
      "when was the last time anyone was on the moon {'question': 'when was the last time anyone was on the moon', 'answer': 'December 1972', 'passage': \"« Moon landing » « Moon landing, Crewed landings » A total of twelve men have landed on the Moon. This was accomplished with two US pilot-astronauts flying a Lunar Module on each of six NASA missions across a 41-month period starting 20 July 1969, with Neil Armstrong and Buzz Aldrin on Apollo 11, and ending on 14 December 1972 with Gene Cernan and Jack Schmitt on Apollo 17. Cernan was the last man to step off the lunar surface.\\n\\n« Apollo 17 » « Apollo 17 » Apollo 17 (December 7\\xa0– 19, 1972) was the final Moon landing mission of NASA's Apollo program, and remains the most recent time humans have traveled beyond low Earth orbit and also the most recent time humans have set foot on the Moon. Its crew consisted of Commander Eugene Cernan, Lunar Module Pilot Harrison Schmitt, and Command Module Pilot Ronald Evans, and it carried a biological experiment containing five mice.\\n\\n« Apollo 11 » « Apollo 11 » Apollo 11 (July 16–24, 1969) was the spaceflight that first landed humans on the Moon. Commander Neil Armstrong and lunar module pilot Buzz Aldrin formed the American crew that landed the Apollo Lunar Module Eagle on July 20, 1969, at 20:17 UTC. Armstrong became the first person to step onto the lunar surface six hours and 39 minutes later on July 21 at 02:56 UTC; Aldrin joined him 19 minutes later. They spent about two and a quarter hours together outside the spacecraft, and collected 47.5 pounds (21.5\\xa0kg) of lunar material to bring back to Earth. Command module pilot Michael Collins flew the Command Module Columbia alone in lunar orbit while they were on the Moon's surface. Armstrong and Aldrin spent 21 hours, 36 minutes on the lunar surface, at a site they had named Tranquility Base upon landing, before lifting off to rejoin Columbia in lunar orbit.\", 'attribution': ''}\n"
     ]
    }
   ],
   "source": [
    "for item, value in results.items():\n",
    "    print(item, value)\n",
    "    break"
   ]
  },
  {
   "cell_type": "code",
   "execution_count": 3,
   "metadata": {},
   "outputs": [
    {
     "name": "stdout",
     "output_type": "stream",
     "text": [
      "1721.732132963989\n"
     ]
    }
   ],
   "source": [
    "sum = 0\n",
    "\n",
    "for item, value in results.items():\n",
    "    sum += len(value['passage'])\n",
    "print(sum/len(results))"
   ]
  },
  {
   "cell_type": "code",
   "execution_count": 4,
   "metadata": {},
   "outputs": [
    {
     "name": "stdout",
     "output_type": "stream",
     "text": [
      "3549 / 3610\n"
     ]
    }
   ],
   "source": [
    "sum = 0\n",
    "count = 0\n",
    "\n",
    "for item, value in results.items():\n",
    "    if len(value['passage']) > 600:\n",
    "        count += 1\n",
    "print(f\"{count} / {len(results)}\")"
   ]
  },
  {
   "cell_type": "code",
   "execution_count": 6,
   "metadata": {},
   "outputs": [
    {
     "name": "stderr",
     "output_type": "stream",
     "text": [
      "Token indices sequence length is longer than the specified maximum sequence length for this model (617 > 512). Running this sequence through the model will result in indexing errors\n"
     ]
    },
    {
     "name": "stdout",
     "output_type": "stream",
     "text": [
      "869 / 3610 passages exceed 512 tokens.\n",
      "Average tokens per passage: 422.64\n"
     ]
    }
   ],
   "source": [
    "from transformers import T5Tokenizer, T5ForConditionalGeneration\n",
    "\n",
    "# Load the tokenizer and model\n",
    "AUTOAIS = \"google/t5_xxl_true_nli_mixture\"\n",
    "hf_tokenizer = T5Tokenizer.from_pretrained(AUTOAIS)\n",
    "# hf_model = T5ForConditionalGeneration.from_pretrained(AUTOAIS, device_map=\"auto\")\n",
    "\n",
    "# Initialize variables\n",
    "sum_tokens = 0\n",
    "count_passages = 0\n",
    "count_long_passages = 0\n",
    "\n",
    "# Iterate over results\n",
    "for item, value in results.items():\n",
    "    # Tokenize the passage\n",
    "    tokens = hf_tokenizer(value['passage'], return_tensors=\"pt\").input_ids\n",
    "    num_tokens = tokens.shape[1]  # Get the number of tokens\n",
    "\n",
    "    sum_tokens += num_tokens\n",
    "    count_passages += 1\n",
    "\n",
    "    # Check if passage exceeds 600 tokens\n",
    "    if num_tokens > 512:\n",
    "        count_long_passages += 1\n",
    "\n",
    "# Output results\n",
    "print(f\"{count_long_passages} / {count_passages} passages exceed 512 tokens.\")\n",
    "print(f\"Average tokens per passage: {sum_tokens / count_passages:.2f}\")\n"
   ]
  },
  {
   "cell_type": "code",
   "execution_count": null,
   "metadata": {},
   "outputs": [],
   "source": []
  }
 ],
 "metadata": {
  "kernelspec": {
   "display_name": "autoais",
   "language": "python",
   "name": "python3"
  },
  "language_info": {
   "codemirror_mode": {
    "name": "ipython",
    "version": 3
   },
   "file_extension": ".py",
   "mimetype": "text/x-python",
   "name": "python",
   "nbconvert_exporter": "python",
   "pygments_lexer": "ipython3",
   "version": "3.10.15"
  }
 },
 "nbformat": 4,
 "nbformat_minor": 2
}
